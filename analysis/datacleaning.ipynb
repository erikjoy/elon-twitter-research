{
 "cells": [
  {
   "cell_type": "code",
   "execution_count": 2,
   "metadata": {},
   "outputs": [],
   "source": [
    "from definitions import DATA_DIR"
   ]
  },
  {
   "source": [
    "## Delete '@' Symbols and http urls"
   ],
   "cell_type": "markdown",
   "metadata": {}
  },
  {
   "cell_type": "code",
   "execution_count": 4,
   "metadata": {},
   "outputs": [],
   "source": [
    "import pandas as pd\n",
    "import numpy as np\n",
    "import re\n",
    "\n",
    "df = pd.read_csv(DATA_DIR + '/elonmusk.csv', header=0)"
   ]
  },
  {
   "cell_type": "code",
   "execution_count": 5,
   "metadata": {},
   "outputs": [],
   "source": [
    "for index, row in df.iterrows():\n",
    "    text = row['tweet']\n",
    "    text2 = \"\"\n",
    "    for i, v in enumerate(text):\n",
    "        if(v != '@'):\n",
    "            text2 += v\n",
    "    df.loc[index, 'tweet'] = text2;\n",
    "    df.loc[index, 'tweet'] = re.sub(r'http\\S+', '', df.loc[index, 'tweet'])        "
   ]
  },
  {
   "cell_type": "code",
   "execution_count": 6,
   "metadata": {},
   "outputs": [],
   "source": [
    "df.to_csv(DATA_DIR + '/elonmusk_new.csv')"
   ]
  },
  {
   "cell_type": "markdown",
   "metadata": {},
   "source": [
    "## Delete 'pic.twitter.com/...' urls"
   ]
  },
  {
   "cell_type": "code",
   "execution_count": 7,
   "metadata": {},
   "outputs": [],
   "source": [
    "import pandas as pd\n",
    "import numpy as np\n",
    "import re\n",
    "\n",
    "df = pd.read_csv(DATA_DIR + '/elonmusk_new.csv', header=0)"
   ]
  },
  {
   "cell_type": "code",
   "execution_count": 8,
   "metadata": {},
   "outputs": [
    {
     "output_type": "execute_result",
     "data": {
      "text/plain": [
       "'Dragon Dawn pic.twitter.com/mz1EzU5GSO'"
      ]
     },
     "metadata": {},
     "execution_count": 8
    }
   ],
   "source": [
    "df.loc[479, 'tweet']"
   ]
  },
  {
   "cell_type": "code",
   "execution_count": 9,
   "metadata": {},
   "outputs": [],
   "source": [
    "for index, row in df.iterrows():\n",
    "    try:\n",
    "        num = row['tweet'].index('pic.twitter.com/')      \n",
    "    except ValueError:\n",
    "        v = 'do nothing'\n",
    "    else:\n",
    "        text = row['tweet']\n",
    "        text2 = ''\n",
    "        for i in range(len(text)):\n",
    "            if(i < num or i > num+25):\n",
    "                text2 += text[i]\n",
    "        df.loc[index, 'tweet'] = text2"
   ]
  },
  {
   "cell_type": "code",
   "execution_count": 10,
   "metadata": {},
   "outputs": [
    {
     "output_type": "execute_result",
     "data": {
      "text/plain": [
       "'Dragon Dawn '"
      ]
     },
     "metadata": {},
     "execution_count": 10
    }
   ],
   "source": [
    "df.loc[479, 'tweet']"
   ]
  },
  {
   "cell_type": "code",
   "execution_count": 11,
   "metadata": {},
   "outputs": [],
   "source": [
    "df.to_csv(DATA_DIR + '/elonmusk_new.csv')"
   ]
  },
  {
   "cell_type": "markdown",
   "metadata": {},
   "source": [
    "## Add Ratio Column"
   ]
  },
  {
   "cell_type": "code",
   "execution_count": 13,
   "metadata": {},
   "outputs": [
    {
     "output_type": "stream",
     "name": "stderr",
     "text": [
      "<ipython-input-13-392eacf9bb3c>:4: RuntimeWarning: divide by zero encountered in long_scalars\n  df.loc[index, 'ratio'] = df.loc[index, 'likes_count'] / df.loc[index, 'replies_count']\n"
     ]
    }
   ],
   "source": [
    "import pandas as pd\n",
    "df = pd.read_csv(DATA_DIR + '/elonmusk_new.csv', header=0)\n",
    "for index, row in df.iterrows():\n",
    "    df.loc[index, 'ratio'] = df.loc[index, 'likes_count'] / df.loc[index, 'replies_count']"
   ]
  },
  {
   "cell_type": "code",
   "execution_count": 14,
   "metadata": {},
   "outputs": [],
   "source": [
    "df.to_csv(DATA_DIR + '/elonmusk_new.csv')"
   ]
  }
 ],
 "metadata": {
  "kernelspec": {
   "display_name": "Python 3",
   "language": "python",
   "name": "python3"
  },
  "language_info": {
   "codemirror_mode": {
    "name": "ipython",
    "version": 3
   },
   "file_extension": ".py",
   "mimetype": "text/x-python",
   "name": "python",
   "nbconvert_exporter": "python",
   "pygments_lexer": "ipython3",
   "version": "3.9.0"
  }
 },
 "nbformat": 4,
 "nbformat_minor": 4
}